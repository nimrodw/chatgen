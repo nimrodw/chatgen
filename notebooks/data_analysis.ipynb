{
 "cells": [
  {
   "cell_type": "code",
   "execution_count": 48,
   "metadata": {},
   "outputs": [],
   "source": [
    "import pandas as pd\n",
    "from matplotlib import pyplot as plt\n",
    "import seaborn as sns\n",
    "import numpy as np\n",
    "\n",
    "data_path = r\"../data/processed/all_data.csv\""
   ]
  },
  {
   "cell_type": "code",
   "execution_count": 11,
   "metadata": {},
   "outputs": [],
   "source": [
    "# load data into dataframe\n",
    "df = pd.read_csv(data_path)\n",
    "df.reset_index()\n",
    "df = df.drop(df.columns[0], axis=1)\n",
    "\n",
    "pd.set_option('display.max_rows', 500)\n",
    "pd.set_option('display.max_columns', 500)\n",
    "pd.set_option('display.width', 1000)"
   ]
  },
  {
   "cell_type": "code",
   "execution_count": 40,
   "metadata": {},
   "outputs": [
    {
     "data": {
      "text/html": [
       "<div>\n",
       "<style scoped>\n",
       "    .dataframe tbody tr th:only-of-type {\n",
       "        vertical-align: middle;\n",
       "    }\n",
       "\n",
       "    .dataframe tbody tr th {\n",
       "        vertical-align: top;\n",
       "    }\n",
       "\n",
       "    .dataframe thead th {\n",
       "        text-align: right;\n",
       "    }\n",
       "</style>\n",
       "<table border=\"1\" class=\"dataframe\">\n",
       "  <thead>\n",
       "    <tr style=\"text-align: right;\">\n",
       "      <th></th>\n",
       "      <th>timedate</th>\n",
       "      <th>sender</th>\n",
       "      <th>text</th>\n",
       "    </tr>\n",
       "  </thead>\n",
       "  <tbody>\n",
       "    <tr>\n",
       "      <th>0</th>\n",
       "      <td>26.05.19, 13:14</td>\n",
       "      <td>Nimrod W</td>\n",
       "      <td>Dan cookson can dew if\\n</td>\n",
       "    </tr>\n",
       "    <tr>\n",
       "      <th>1</th>\n",
       "      <td>26.05.19, 13:14</td>\n",
       "      <td>Nimrod W</td>\n",
       "      <td>It\\n</td>\n",
       "    </tr>\n",
       "    <tr>\n",
       "      <th>2</th>\n",
       "      <td>26.05.19, 13:15</td>\n",
       "      <td>Alex Friend</td>\n",
       "      <td>Gotcha\\n</td>\n",
       "    </tr>\n",
       "    <tr>\n",
       "      <th>3</th>\n",
       "      <td>26.05.19, 13:15</td>\n",
       "      <td>Alex Friend</td>\n",
       "      <td>Will deliver\\n</td>\n",
       "    </tr>\n",
       "    <tr>\n",
       "      <th>4</th>\n",
       "      <td>26.05.19, 13:15</td>\n",
       "      <td>Nimrod W</td>\n",
       "      <td>Amazing\\n</td>\n",
       "    </tr>\n",
       "    <tr>\n",
       "      <th>5</th>\n",
       "      <td>26.05.19, 13:15</td>\n",
       "      <td>Nimrod W</td>\n",
       "      <td>This will change my life\\n</td>\n",
       "    </tr>\n",
       "    <tr>\n",
       "      <th>6</th>\n",
       "      <td>26.05.19, 13:15</td>\n",
       "      <td>Nimrod W</td>\n",
       "      <td>I will start a yt channel called 'oxidised br...</td>\n",
       "    </tr>\n",
       "  </tbody>\n",
       "</table>\n",
       "</div>"
      ],
      "text/plain": [
       "          timedate       sender                                               text\n",
       "0  26.05.19, 13:14     Nimrod W                           Dan cookson can dew if\\n\n",
       "1  26.05.19, 13:14     Nimrod W                                               It\\n\n",
       "2  26.05.19, 13:15  Alex Friend                                           Gotcha\\n\n",
       "3  26.05.19, 13:15  Alex Friend                                     Will deliver\\n\n",
       "4  26.05.19, 13:15     Nimrod W                                          Amazing\\n\n",
       "5  26.05.19, 13:15     Nimrod W                         This will change my life\\n\n",
       "6  26.05.19, 13:15     Nimrod W   I will start a yt channel called 'oxidised br..."
      ]
     },
     "metadata": {},
     "output_type": "display_data"
    },
    {
     "name": "stdout",
     "output_type": "stream",
     "text": [
      "Total messages:  161822\n"
     ]
    }
   ],
   "source": [
    "display(df.head(7))\n",
    "print(\"Total messages: \", len(df))"
   ]
  },
  {
   "cell_type": "code",
   "execution_count": 27,
   "metadata": {},
   "outputs": [
    {
     "data": {
      "text/html": [
       "<div>\n",
       "<style scoped>\n",
       "    .dataframe tbody tr th:only-of-type {\n",
       "        vertical-align: middle;\n",
       "    }\n",
       "\n",
       "    .dataframe tbody tr th {\n",
       "        vertical-align: top;\n",
       "    }\n",
       "\n",
       "    .dataframe thead th {\n",
       "        text-align: right;\n",
       "    }\n",
       "</style>\n",
       "<table border=\"1\" class=\"dataframe\">\n",
       "  <thead>\n",
       "    <tr style=\"text-align: right;\">\n",
       "      <th></th>\n",
       "      <th>text</th>\n",
       "    </tr>\n",
       "    <tr>\n",
       "      <th>sender</th>\n",
       "      <th></th>\n",
       "    </tr>\n",
       "  </thead>\n",
       "  <tbody>\n",
       "    <tr>\n",
       "      <th>Nimrod W</th>\n",
       "      <td>54188</td>\n",
       "    </tr>\n",
       "    <tr>\n",
       "      <th>Yoav Wynne</th>\n",
       "      <td>17255</td>\n",
       "    </tr>\n",
       "    <tr>\n",
       "      <th>Annika Guez</th>\n",
       "      <td>16217</td>\n",
       "    </tr>\n",
       "    <tr>\n",
       "      <th>Eytan Merkier</th>\n",
       "      <td>8087</td>\n",
       "    </tr>\n",
       "    <tr>\n",
       "      <th>Walt Trustam</th>\n",
       "      <td>7179</td>\n",
       "    </tr>\n",
       "    <tr>\n",
       "      <th>Avishai Wynne</th>\n",
       "      <td>6727</td>\n",
       "    </tr>\n",
       "    <tr>\n",
       "      <th>Scott Fielding</th>\n",
       "      <td>6542</td>\n",
       "    </tr>\n",
       "    <tr>\n",
       "      <th>Judy Peritz-Wynne (Mum)</th>\n",
       "      <td>6258</td>\n",
       "    </tr>\n",
       "    <tr>\n",
       "      <th>Jonathan Wynne (Dad)</th>\n",
       "      <td>4740</td>\n",
       "    </tr>\n",
       "    <tr>\n",
       "      <th>Alex Friend</th>\n",
       "      <td>4192</td>\n",
       "    </tr>\n",
       "  </tbody>\n",
       "</table>\n",
       "</div>"
      ],
      "text/plain": [
       "                          text\n",
       "sender                        \n",
       "Nimrod W                 54188\n",
       "Yoav Wynne               17255\n",
       "Annika Guez              16217\n",
       "Eytan Merkier             8087\n",
       "Walt Trustam              7179\n",
       "Avishai Wynne             6727\n",
       "Scott Fielding            6542\n",
       "Judy Peritz-Wynne (Mum)   6258\n",
       "Jonathan Wynne (Dad)      4740\n",
       "Alex Friend               4192"
      ]
     },
     "execution_count": 27,
     "metadata": {},
     "output_type": "execute_result"
    }
   ],
   "source": [
    "# let's have a little look at some of the stats\n",
    "df[['sender','text']].groupby(['sender']).count().sort_values(by='text', ascending=False).head(10)"
   ]
  },
  {
   "cell_type": "code",
   "execution_count": 47,
   "metadata": {},
   "outputs": [
    {
     "name": "stdout",
     "output_type": "stream",
     "text": [
      "Mean Message Length:  31.0\n",
      "Minumum and Maximum:  3 ,  2947\n",
      "Median length:  25.0\n"
     ]
    }
   ],
   "source": [
    "message_lengths = df['text'].str.len().to_list()\n",
    "mean_len = np.mean(message_lengths)\n",
    "print(\"Mean Message Length: \", np.round(mean_len))\n",
    "print(\"Minumum and Maximum: \", np.min(message_lengths), \", \", np.max(message_lengths))\n",
    "print(\"Median length: \", np.median(message_lengths))"
   ]
  },
  {
   "cell_type": "code",
   "execution_count": 69,
   "metadata": {},
   "outputs": [
    {
     "name": "stdout",
     "output_type": "stream",
     "text": [
      "               timedate         sender                                               text\n",
      "1701    12.09.20, 00:52       Nimrod W   https//www.reddit.com/r/Cooking/comments/g7rw...\n",
      "2961    23.12.20, 01:01  Eytan Merkier   Tangent which wasn't completed due to my drun...\n",
      "2963    23.12.20, 01:07  Eytan Merkier   I think this is just my personality/ characte...\n",
      "2971    23.12.20, 09:04       Nimrod W   https//www.mitgaisim.idf.il/%D7%9B%D7%AA%D7%9...\n",
      "3383    22.02.21, 10:33       Nimrod W   https//l.messenger.com/l.php?u=https%3A%2F%2F...\n",
      "...                 ...            ...                                                ...\n",
      "156709  18.02.22, 15:10       Nimrod W   https//www.idf.il/%d7%90%d7%aa%d7%a8%d7%99-%d...\n",
      "156831  04.03.22, 08:10  Eytan Merkier   Nimrooodddd, happy birthday, enjoy the day wi...\n",
      "158835  21.10.22, 12:41       Nimrod W   its the pantry closet, we let the situation g...\n",
      "160038  29.07.22, 13:00       Nimrod W   https//www.google.com/url?sa=t&source=web&rct...\n",
      "161652  27.12.22, 01:01       Nimrod W   https//www.google.com/url?sa=t&source=web&rct...\n",
      "\n",
      "[536 rows x 3 columns]\n"
     ]
    }
   ],
   "source": [
    "print(df.loc[df['text'].str.len() > 200])"
   ]
  },
  {
   "cell_type": "markdown",
   "metadata": {},
   "source": [
    "Here we see the distribution of message lengths. Plotting using a log scale we can see a that most messages there are a small minority of very long messages"
   ]
  },
  {
   "cell_type": "code",
   "execution_count": 64,
   "metadata": {},
   "outputs": [
    {
     "data": {
      "image/png": "[encoded data removed]",
      "text/plain": [
       "<Figure size 640x480 with 2 Axes>"
      ]
     },
     "metadata": {},
     "output_type": "display_data"
    }
   ],
   "source": [
    "# let's have a look at the distributions of the message lengths\n",
    "fig, ax = plt.subplots(2)\n",
    "plt.xlabel(\"Message Lengths\")\n",
    "sns.kdeplot(message_lengths, ax=ax[0])\n",
    "sns.kdeplot(message_lengths, ax=ax[1]) \n",
    "ax[1].set_xscale('log')\n",
    "plt.show()"
   ]
  },
  {
   "cell_type": "code",
   "execution_count": 70,
   "metadata": {},
   "outputs": [],
   "source": [
    "# let's have a look at the times that messages were sent at\n",
    "# maybe hour of day vs number of messages?"
   ]
  },
  {
   "cell_type": "code",
   "execution_count": null,
   "metadata": {},
   "outputs": [],
   "source": []
  }
 ],
 "metadata": {
  "kernelspec": {
   "display_name": "Python 3 (ipykernel)",
   "language": "python",
   "name": "python3"
  },
  "language_info": {
   "codemirror_mode": {
    "name": "ipython",
    "version": 3
   },
   "file_extension": ".py",
   "mimetype": "text/x-python",
   "name": "python",
   "nbconvert_exporter": "python",
   "pygments_lexer": "ipython3",
   "version": "3.9.0"
  }
 },
 "nbformat": 4,
 "nbformat_minor": 1
}
