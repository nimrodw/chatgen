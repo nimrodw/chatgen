{
 "cells": [
  {
   "cell_type": "code",
   "execution_count": 83,
   "metadata": {},
   "outputs": [],
   "source": [
    "import pandas as pd\n",
    "from matplotlib import pyplot as plt\n",
    "import seaborn as sns\n",
    "import numpy as np\n",
    "from datetime import datetime\n",
    "\n",
    "data_path = r\"../data/processed/all_data_1.csv\""
   ]
  },
  {
   "cell_type": "code",
   "execution_count": 72,
   "metadata": {},
   "outputs": [],
   "source": [
    "# load data into dataframe\n",
    "df = pd.read_csv(data_path)\n",
    "df.reset_index()\n",
    "df = df.drop(df.columns[0], axis=1)\n",
    "\n",
    "pd.set_option('display.max_rows', 500)\n",
    "pd.set_option('display.max_columns', 500)\n",
    "pd.set_option('display.width', 1000)"
   ]
  },
  {
   "cell_type": "code",
   "execution_count": 76,
   "metadata": {},
   "outputs": [
    {
     "data": {
      "text/html": [
       "<div>\n",
       "<style scoped>\n",
       "    .dataframe tbody tr th:only-of-type {\n",
       "        vertical-align: middle;\n",
       "    }\n",
       "\n",
       "    .dataframe tbody tr th {\n",
       "        vertical-align: top;\n",
       "    }\n",
       "\n",
       "    .dataframe thead th {\n",
       "        text-align: right;\n",
       "    }\n",
       "</style>\n",
       "<table border=\"1\" class=\"dataframe\">\n",
       "  <thead>\n",
       "    <tr style=\"text-align: right;\">\n",
       "      <th></th>\n",
       "      <th>timedate</th>\n",
       "      <th>sender</th>\n",
       "      <th>text</th>\n",
       "    </tr>\n",
       "  </thead>\n",
       "  <tbody>\n",
       "    <tr>\n",
       "      <th>0</th>\n",
       "      <td>26.05.19, 13:14</td>\n",
       "      <td>Nimrod W</td>\n",
       "      <td>Dan cookson can dew if\\n</td>\n",
       "    </tr>\n",
       "    <tr>\n",
       "      <th>1</th>\n",
       "      <td>26.05.19, 13:14</td>\n",
       "      <td>Nimrod W</td>\n",
       "      <td>It\\n</td>\n",
       "    </tr>\n",
       "    <tr>\n",
       "      <th>2</th>\n",
       "      <td>26.05.19, 13:15</td>\n",
       "      <td>Alex Friend</td>\n",
       "      <td>Gotcha\\n</td>\n",
       "    </tr>\n",
       "    <tr>\n",
       "      <th>3</th>\n",
       "      <td>26.05.19, 13:15</td>\n",
       "      <td>Alex Friend</td>\n",
       "      <td>Will deliver\\n</td>\n",
       "    </tr>\n",
       "    <tr>\n",
       "      <th>4</th>\n",
       "      <td>26.05.19, 13:15</td>\n",
       "      <td>Nimrod W</td>\n",
       "      <td>Amazing\\n</td>\n",
       "    </tr>\n",
       "    <tr>\n",
       "      <th>5</th>\n",
       "      <td>26.05.19, 13:15</td>\n",
       "      <td>Nimrod W</td>\n",
       "      <td>This will change my life\\n</td>\n",
       "    </tr>\n",
       "    <tr>\n",
       "      <th>6</th>\n",
       "      <td>26.05.19, 13:15</td>\n",
       "      <td>Nimrod W</td>\n",
       "      <td>I will start a yt channel called 'oxidised br...</td>\n",
       "    </tr>\n",
       "  </tbody>\n",
       "</table>\n",
       "</div>"
      ],
      "text/plain": [
       "          timedate       sender                                               text\n",
       "0  26.05.19, 13:14     Nimrod W                           Dan cookson can dew if\\n\n",
       "1  26.05.19, 13:14     Nimrod W                                               It\\n\n",
       "2  26.05.19, 13:15  Alex Friend                                           Gotcha\\n\n",
       "3  26.05.19, 13:15  Alex Friend                                     Will deliver\\n\n",
       "4  26.05.19, 13:15     Nimrod W                                          Amazing\\n\n",
       "5  26.05.19, 13:15     Nimrod W                         This will change my life\\n\n",
       "6  26.05.19, 13:15     Nimrod W   I will start a yt channel called 'oxidised br..."
      ]
     },
     "metadata": {},
     "output_type": "display_data"
    },
    {
     "name": "stdout",
     "output_type": "stream",
     "text": [
      "Total messages:  166314\n",
      "Total Characters:  5104128\n"
     ]
    }
   ],
   "source": [
    "display(df.head(7))\n",
    "print(\"Total messages: \", len(df))\n",
    "print(\"Total Characters: \", df['text'].str.len().sum())"
   ]
  },
  {
   "cell_type": "code",
   "execution_count": 78,
   "metadata": {},
   "outputs": [
    {
     "data": {
      "text/html": [
       "<div>\n",
       "<style scoped>\n",
       "    .dataframe tbody tr th:only-of-type {\n",
       "        vertical-align: middle;\n",
       "    }\n",
       "\n",
       "    .dataframe tbody tr th {\n",
       "        vertical-align: top;\n",
       "    }\n",
       "\n",
       "    .dataframe thead th {\n",
       "        text-align: right;\n",
       "    }\n",
       "</style>\n",
       "<table border=\"1\" class=\"dataframe\">\n",
       "  <thead>\n",
       "    <tr style=\"text-align: right;\">\n",
       "      <th></th>\n",
       "      <th>text</th>\n",
       "    </tr>\n",
       "    <tr>\n",
       "      <th>sender</th>\n",
       "      <th></th>\n",
       "    </tr>\n",
       "  </thead>\n",
       "  <tbody>\n",
       "    <tr>\n",
       "      <th>Nimrod W</th>\n",
       "      <td>56500</td>\n",
       "    </tr>\n",
       "    <tr>\n",
       "      <th>Yoav Wynne</th>\n",
       "      <td>17378</td>\n",
       "    </tr>\n",
       "    <tr>\n",
       "      <th>Annika Guez</th>\n",
       "      <td>16218</td>\n",
       "    </tr>\n",
       "    <tr>\n",
       "      <th>Eytan Merkier</th>\n",
       "      <td>8246</td>\n",
       "    </tr>\n",
       "    <tr>\n",
       "      <th>Walt Trustam</th>\n",
       "      <td>7179</td>\n",
       "    </tr>\n",
       "    <tr>\n",
       "      <th>Avishai Wynne</th>\n",
       "      <td>6738</td>\n",
       "    </tr>\n",
       "    <tr>\n",
       "      <th>Scott Fielding</th>\n",
       "      <td>6542</td>\n",
       "    </tr>\n",
       "    <tr>\n",
       "      <th>Judy Peritz-Wynne (Mum)</th>\n",
       "      <td>6537</td>\n",
       "    </tr>\n",
       "    <tr>\n",
       "      <th>Jonathan Wynne (Dad)</th>\n",
       "      <td>4795</td>\n",
       "    </tr>\n",
       "    <tr>\n",
       "      <th>Alex Friend</th>\n",
       "      <td>4192</td>\n",
       "    </tr>\n",
       "    <tr>\n",
       "      <th>Zlat</th>\n",
       "      <td>4020</td>\n",
       "    </tr>\n",
       "    <tr>\n",
       "      <th>Daniel Cordell</th>\n",
       "      <td>3089</td>\n",
       "    </tr>\n",
       "    <tr>\n",
       "      <th>Can Y</th>\n",
       "      <td>2845</td>\n",
       "    </tr>\n",
       "    <tr>\n",
       "      <th>Toby Jones</th>\n",
       "      <td>2779</td>\n",
       "    </tr>\n",
       "    <tr>\n",
       "      <th>Andrew Reynolds</th>\n",
       "      <td>2543</td>\n",
       "    </tr>\n",
       "    <tr>\n",
       "      <th>Lee T</th>\n",
       "      <td>2518</td>\n",
       "    </tr>\n",
       "    <tr>\n",
       "      <th>Inbar Hasson</th>\n",
       "      <td>2413</td>\n",
       "    </tr>\n",
       "    <tr>\n",
       "      <th>Joe W</th>\n",
       "      <td>2101</td>\n",
       "    </tr>\n",
       "  </tbody>\n",
       "</table>\n",
       "</div>"
      ],
      "text/plain": [
       "                          text\n",
       "sender                        \n",
       "Nimrod W                 56500\n",
       "Yoav Wynne               17378\n",
       "Annika Guez              16218\n",
       "Eytan Merkier             8246\n",
       "Walt Trustam              7179\n",
       "Avishai Wynne             6738\n",
       "Scott Fielding            6542\n",
       "Judy Peritz-Wynne (Mum)   6537\n",
       "Jonathan Wynne (Dad)      4795\n",
       "Alex Friend               4192\n",
       "Zlat                      4020\n",
       "Daniel Cordell            3089\n",
       "Can Y                     2845\n",
       "Toby Jones                2779\n",
       "Andrew Reynolds           2543\n",
       "Lee T                     2518\n",
       "Inbar Hasson              2413\n",
       "Joe W                     2101"
      ]
     },
     "execution_count": 78,
     "metadata": {},
     "output_type": "execute_result"
    }
   ],
   "source": [
    "# let's have a little look at some of the stats\n",
    "df[['sender','text']].groupby(['sender']).count().sort_values(by='text', ascending=False).head(18)"
   ]
  },
  {
   "cell_type": "code",
   "execution_count": 79,
   "metadata": {},
   "outputs": [
    {
     "name": "stdout",
     "output_type": "stream",
     "text": [
      "Mean Message Length:  31.0\n",
      "Minumum and Maximum:  3 ,  2947\n",
      "Median length:  25.0\n"
     ]
    }
   ],
   "source": [
    "message_lengths = df['text'].str.len().to_list()\n",
    "mean_len = np.mean(message_lengths)\n",
    "print(\"Mean Message Length: \", np.round(mean_len))\n",
    "print(\"Minumum and Maximum: \", np.min(message_lengths), \", \", np.max(message_lengths))\n",
    "print(\"Median length: \", np.median(message_lengths))"
   ]
  },
  {
   "cell_type": "code",
   "execution_count": 80,
   "metadata": {},
   "outputs": [
    {
     "name": "stdout",
     "output_type": "stream",
     "text": [
      "               timedate          sender                                               text\n",
      "1703    12.09.20, 00:52        Nimrod W   https//www.reddit.com/r/Cooking/comments/g7rw...\n",
      "2749    27.01.20, 12:37  Daniel Cordell   מה לעזאזל פשוט אמרת עלי, כלבה קטנה? אוודע לך ...\n",
      "2974    23.12.20, 01:01   Eytan Merkier   Tangent which wasn't completed due to my drun...\n",
      "2976    23.12.20, 01:07   Eytan Merkier   I think this is just my personality/ characte...\n",
      "2984    23.12.20, 09:04        Nimrod W   https//www.mitgaisim.idf.il/%D7%9B%D7%AA%D7%9...\n",
      "...                 ...             ...                                                ...\n",
      "157998  04.03.22, 08:10   Eytan Merkier   Nimrooodddd, happy birthday, enjoy the day wi...\n",
      "160046  21.10.22, 12:41        Nimrod W   its the pantry closet, we let the situation g...\n",
      "160782  14.12.22, 18:08        Nimrod W   שלום נמרוד.שוחחתי עם רוזלי. היא מתקיימת מדמי ...\n",
      "161777  29.07.22, 13:00        Nimrod W   https//www.google.com/url?sa=t&source=web&rct...\n",
      "165926  27.12.22, 01:01        Nimrod W   https//www.google.com/url?sa=t&source=web&rct...\n",
      "\n",
      "[557 rows x 3 columns]\n"
     ]
    }
   ],
   "source": [
    "print(df.loc[df['text'].str.len() > 200])"
   ]
  },
  {
   "cell_type": "markdown",
   "metadata": {},
   "source": [
    "Here we see the distribution of message lengths. Plotting using a log scale we can see a that most messages there are a small minority of very long messages"
   ]
  },
  {
   "cell_type": "code",
   "execution_count": 81,
   "metadata": {},
   "outputs": [
    {
     "data": {
      "image/png": "[encoded data removed]",
      "text/plain": [
       "<Figure size 640x480 with 2 Axes>"
      ]
     },
     "metadata": {},
     "output_type": "display_data"
    }
   ],
   "source": [
    "# let's have a look at the distributions of the message lengths\n",
    "fig, ax = plt.subplots(2)\n",
    "plt.xlabel(\"Message Lengths\")\n",
    "sns.kdeplot(message_lengths, ax=ax[0])\n",
    "sns.kdeplot(message_lengths, ax=ax[1]) \n",
    "ax[1].set_xscale('log')\n",
    "plt.show()"
   ]
  },
  {
   "cell_type": "code",
   "execution_count": 94,
   "metadata": {},
   "outputs": [
    {
     "name": "stdout",
     "output_type": "stream",
     "text": [
      "               timedate        sender                                            text            datetime\n",
      "0       26.05.19, 13:14      Nimrod W                        Dan cookson can dew if\\n 2019-05-26 13:14:00\n",
      "1       26.05.19, 13:14      Nimrod W                                            It\\n 2019-05-26 13:14:00\n",
      "2       26.05.19, 13:15   Alex Friend                                        Gotcha\\n 2019-05-26 13:15:00\n",
      "3       26.05.19, 13:15   Alex Friend                                  Will deliver\\n 2019-05-26 13:15:00\n",
      "4       26.05.19, 13:15      Nimrod W                                       Amazing\\n 2019-05-26 13:15:00\n",
      "...                 ...           ...                                             ...                 ...\n",
      "166309  16.01.23, 19:10      Nimrod W                       <Medien ausgeschlossen>\\n 2023-01-16 19:10:00\n",
      "166310  16.01.23, 19:11  Inbar Hasson                                          Yeah\\n 2023-01-16 19:11:00\n",
      "166311  16.01.23, 19:11  Inbar Hasson                But isn't he a bitch or somtn?\\n 2023-01-16 19:11:00\n",
      "166312  16.01.23, 20:23      Nimrod W                                           yes\\n 2023-01-16 20:23:00\n",
      "166313  16.01.23, 20:24      Nimrod W   but my brothers are bullying me in to going\\n 2023-01-16 20:24:00\n",
      "\n",
      "[166314 rows x 4 columns]\n"
     ]
    }
   ],
   "source": [
    "# let's have a look at the times that messages were sent at\n",
    "# maybe hour of day vs number of messages?\n",
    "# first, let's convert the datetime to a useable datetime object\n",
    "def text_to_datetime(text):\n",
    "    try:\n",
    "        return datetime.strptime(text, \"%d.%m.%y, %H:%M\")\n",
    "    except:\n",
    "        return None\n",
    "        \n",
    "df_date = df.copy()\n",
    "df_date['datetime'] = df_date.apply(lambda row: text_to_datetime(row['timedate']), axis=1)\n",
    "print(df_date)"
   ]
  },
  {
   "cell_type": "code",
   "execution_count": 106,
   "metadata": {},
   "outputs": [
    {
     "data": {
      "text/plain": [
       "<AxesSubplot: xlabel='datetime'>"
      ]
     },
     "execution_count": 106,
     "metadata": {},
     "output_type": "execute_result"
    },
    {
     "data": {
      "image/png": "[encoded data removed]",
      "text/plain": [
       "<Figure size 640x480 with 1 Axes>"
      ]
     },
     "metadata": {},
     "output_type": "display_data"
    }
   ],
   "source": [
    "# here we have a plot of hour of the day versus number of messages sent. \n",
    "df_date.groupby(df_date['datetime'].dt.hour).count()['text'].plot()"
   ]
  },
  {
   "cell_type": "code",
   "execution_count": null,
   "metadata": {},
   "outputs": [],
   "source": []
  }
 ],
 "metadata": {
  "kernelspec": {
   "display_name": "Python 3 (ipykernel)",
   "language": "python",
   "name": "python3"
  },
  "language_info": {
   "codemirror_mode": {
    "name": "ipython",
    "version": 3
   },
   "file_extension": ".py",
   "mimetype": "text/x-python",
   "name": "python",
   "nbconvert_exporter": "python",
   "pygments_lexer": "ipython3",
   "version": "3.9.0"
  }
 },
 "nbformat": 4,
 "nbformat_minor": 1
}
